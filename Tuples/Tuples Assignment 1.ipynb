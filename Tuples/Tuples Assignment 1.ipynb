{
 "cells": [
  {
   "cell_type": "markdown",
   "id": "d385c705",
   "metadata": {},
   "source": [
    "### Program to create a tuple"
   ]
  },
  {
   "cell_type": "code",
   "execution_count": 1,
   "id": "f84df435",
   "metadata": {},
   "outputs": [
    {
     "name": "stdout",
     "output_type": "stream",
     "text": [
      "Enter tuple elements:843973\n",
      "('8', '4', '3', '9', '7', '3')\n",
      "<class 'tuple'>\n"
     ]
    }
   ],
   "source": [
    "a = tuple(input('Enter tuple elements:'))\n",
    "print(a)\n",
    "print(type(a))"
   ]
  },
  {
   "cell_type": "markdown",
   "id": "489ad188",
   "metadata": {},
   "source": [
    "### Program to create tuple with different data types"
   ]
  },
  {
   "cell_type": "code",
   "execution_count": 2,
   "id": "67968ae1",
   "metadata": {},
   "outputs": [
    {
     "name": "stdout",
     "output_type": "stream",
     "text": [
      "('renu', 8, 6.9, True, 2.8, 'ruhi', 5)\n",
      "<class 'tuple'>\n"
     ]
    }
   ],
   "source": [
    "t = (\"renu\",8,6.9,True,2.8,'ruhi',5)\n",
    "print(t)\n",
    "print(type(t))"
   ]
  },
  {
   "cell_type": "markdown",
   "id": "828b0591",
   "metadata": {},
   "source": [
    "### Program to create tuple with numbers and print one item"
   ]
  },
  {
   "cell_type": "code",
   "execution_count": 3,
   "id": "deec4ba4",
   "metadata": {},
   "outputs": [
    {
     "name": "stdout",
     "output_type": "stream",
     "text": [
      "Enter integers for tuple elements:8593025\n",
      "('8', '5', '9', '3', '0', '2', '5')\n",
      "any one integer item in tuple: 9\n"
     ]
    }
   ],
   "source": [
    "a = tuple(input('Enter integers for tuple elements:'))\n",
    "print(a)\n",
    "print(\"any one integer item in tuple:\", int(a[2]))"
   ]
  },
  {
   "cell_type": "markdown",
   "id": "fe3c7160",
   "metadata": {},
   "source": [
    "### Program to add an item in tuple"
   ]
  },
  {
   "cell_type": "code",
   "execution_count": 4,
   "id": "bb1c8512",
   "metadata": {},
   "outputs": [
    {
     "name": "stdout",
     "output_type": "stream",
     "text": [
      "(2, 4, 6, 8, 10, 12)\n"
     ]
    }
   ],
   "source": [
    "t = (2, 4, 6, 8, 10)\n",
    "t1 = t + (12,)\n",
    "print(t1)"
   ]
  },
  {
   "cell_type": "code",
   "execution_count": 5,
   "id": "c2a5ed67",
   "metadata": {},
   "outputs": [
    {
     "name": "stdout",
     "output_type": "stream",
     "text": [
      "[2, 4, 6, 8, 10]\n",
      "(2, 4, 6, 8, 10, 12)\n"
     ]
    }
   ],
   "source": [
    "t = (2, 4, 6, 8, 10)\n",
    "l1 = list(t)\n",
    "print(l1)\n",
    "l1.append(12)\n",
    "t1 = tuple(l1)\n",
    "print(t1)"
   ]
  },
  {
   "cell_type": "markdown",
   "id": "fdcc9d5a",
   "metadata": {},
   "source": [
    "### Program to convert tuple to a string"
   ]
  },
  {
   "cell_type": "code",
   "execution_count": 6,
   "id": "ee230bf5",
   "metadata": {},
   "outputs": [
    {
     "name": "stdout",
     "output_type": "stream",
     "text": [
      "Enter tuple elements:753r8njs\n",
      "('7', '5', '3', 'r', '8', 'n', 'j', 's')\n",
      "<class 'tuple'>\n",
      "('7', '5', '3', 'r', '8', 'n', 'j', 's')\n",
      "<class 'str'>\n"
     ]
    }
   ],
   "source": [
    "t = tuple(input('Enter tuple elements:'))\n",
    "print(t)\n",
    "print(type(t))\n",
    "s = str(t)\n",
    "print(s)\n",
    "print(type(s))"
   ]
  },
  {
   "cell_type": "markdown",
   "id": "864f84dc",
   "metadata": {},
   "source": [
    "### Program to get 4th element from first & last of a tuple"
   ]
  },
  {
   "cell_type": "code",
   "execution_count": 7,
   "id": "2c4b1ce7",
   "metadata": {},
   "outputs": [
    {
     "name": "stdout",
     "output_type": "stream",
     "text": [
      "Enter tuple elements:8493968285\n",
      "('8', '4', '9', '3', '9', '6', '8', '2', '8', '5')\n",
      "4th element from first: 3\n",
      "4th element from last: 8\n"
     ]
    }
   ],
   "source": [
    "t = tuple(input('Enter tuple elements:'))\n",
    "print(t)\n",
    "print('4th element from first:', t[3])\n",
    "print('4th element from last:', t[-4])"
   ]
  },
  {
   "cell_type": "code",
   "execution_count": null,
   "id": "4a547a8c",
   "metadata": {},
   "outputs": [],
   "source": []
  }
 ],
 "metadata": {
  "kernelspec": {
   "display_name": "Python 3 (ipykernel)",
   "language": "python",
   "name": "python3"
  },
  "language_info": {
   "codemirror_mode": {
    "name": "ipython",
    "version": 3
   },
   "file_extension": ".py",
   "mimetype": "text/x-python",
   "name": "python",
   "nbconvert_exporter": "python",
   "pygments_lexer": "ipython3",
   "version": "3.9.12"
  }
 },
 "nbformat": 4,
 "nbformat_minor": 5
}
