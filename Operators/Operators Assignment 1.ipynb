{
 "cells": [
  {
   "cell_type": "markdown",
   "id": "628dc614",
   "metadata": {},
   "source": [
    "### Membership Operators"
   ]
  },
  {
   "cell_type": "code",
   "execution_count": 1,
   "id": "e7990bf2",
   "metadata": {},
   "outputs": [
    {
     "name": "stdout",
     "output_type": "stream",
     "text": [
      "True\n"
     ]
    }
   ],
   "source": [
    "m = 'my name is renu'\n",
    "print('is' in m)"
   ]
  },
  {
   "cell_type": "code",
   "execution_count": 2,
   "id": "d5480236",
   "metadata": {},
   "outputs": [
    {
     "name": "stdout",
     "output_type": "stream",
     "text": [
      "False\n"
     ]
    }
   ],
   "source": [
    "m = 'my name is renu'\n",
    "print('Renu' in m)"
   ]
  },
  {
   "cell_type": "code",
   "execution_count": 3,
   "id": "72d85ddb",
   "metadata": {},
   "outputs": [
    {
     "name": "stdout",
     "output_type": "stream",
     "text": [
      "True\n"
     ]
    }
   ],
   "source": [
    "m = 'my name is renu'\n",
    "print('Renu' not in m)"
   ]
  },
  {
   "cell_type": "code",
   "execution_count": 4,
   "id": "f9e948fa",
   "metadata": {},
   "outputs": [
    {
     "name": "stdout",
     "output_type": "stream",
     "text": [
      "False\n"
     ]
    }
   ],
   "source": [
    "m = 'my name is renu'\n",
    "print('is' not in m)"
   ]
  },
  {
   "cell_type": "markdown",
   "id": "d1ecd82c",
   "metadata": {},
   "source": [
    "### Bitwise Operators"
   ]
  },
  {
   "cell_type": "code",
   "execution_count": 5,
   "id": "1b898cfc",
   "metadata": {},
   "outputs": [
    {
     "name": "stdout",
     "output_type": "stream",
     "text": [
      "Bitwise AND 4\n"
     ]
    }
   ],
   "source": [
    "# bitwise AND - returns 1 if both bits is 1, else 0\n",
    "x=6    #binary form 0110\n",
    "y=4    #binary fprm 0100\n",
    "print(\"Bitwise AND\", x&y)"
   ]
  },
  {
   "cell_type": "code",
   "execution_count": 6,
   "id": "468c8766",
   "metadata": {},
   "outputs": [
    {
     "name": "stdout",
     "output_type": "stream",
     "text": [
      "Bitwise OR 6\n"
     ]
    }
   ],
   "source": [
    "# bitwise OR - returns 1 if either of bit is 1, else 0\n",
    "x=6    #binary form 0110\n",
    "y=4    #binary fprm 0100\n",
    "print(\"Bitwise OR\", x|y)"
   ]
  },
  {
   "cell_type": "code",
   "execution_count": 7,
   "id": "4a59069c",
   "metadata": {},
   "outputs": [
    {
     "name": "stdout",
     "output_type": "stream",
     "text": [
      "Bitwise NOT -3\n"
     ]
    }
   ],
   "source": [
    "# bitwise NOT - returns one's complement of number\n",
    "x=2    #binary form 0010\n",
    "print(\"Bitwise NOT\", ~x)"
   ]
  },
  {
   "cell_type": "code",
   "execution_count": 8,
   "id": "f12f1987",
   "metadata": {},
   "outputs": [
    {
     "name": "stdout",
     "output_type": "stream",
     "text": [
      "Bitwise XOR 20\n"
     ]
    }
   ],
   "source": [
    "# bitwise XOR - returns 1 if one of bit is 1 and other is 0\n",
    "x = 18   #binary form 10010\n",
    "y = 6    #binary form 0110\n",
    "print(\"Bitwise XOR\", x^y)"
   ]
  },
  {
   "cell_type": "code",
   "execution_count": 9,
   "id": "ac7dd5d4",
   "metadata": {},
   "outputs": [
    {
     "name": "stdout",
     "output_type": "stream",
     "text": [
      "Bitwise Left shift  12\n",
      "Bitwise Right shift 3\n"
     ]
    }
   ],
   "source": [
    "# bitwise Left shift & Right shift \n",
    "x = 6    #binary form 0110\n",
    "print(\"Bitwise Left shift \", x<<1)  #01100\n",
    "print(\"Bitwise Right shift\", x>>1)  #0011"
   ]
  },
  {
   "cell_type": "code",
   "execution_count": 10,
   "id": "f073f518",
   "metadata": {},
   "outputs": [
    {
     "name": "stdout",
     "output_type": "stream",
     "text": [
      "2414970365168\n",
      "<class 'float'>\n",
      "24\n",
      "23.17 is float? True\n"
     ]
    }
   ],
   "source": [
    "import sys\n",
    "v=23.17\n",
    "print(id(v))                                    #unique address\n",
    "print(type(v))                                  #data type of variable\n",
    "print(sys.getsizeof(v))                         #size of object in bytes\n",
    "print(v, \"is float?\", isinstance(v,float))      #isinstance checks data type"
   ]
  },
  {
   "cell_type": "code",
   "execution_count": null,
   "id": "3920452b",
   "metadata": {},
   "outputs": [],
   "source": []
  }
 ],
 "metadata": {
  "kernelspec": {
   "display_name": "Python 3 (ipykernel)",
   "language": "python",
   "name": "python3"
  },
  "language_info": {
   "codemirror_mode": {
    "name": "ipython",
    "version": 3
   },
   "file_extension": ".py",
   "mimetype": "text/x-python",
   "name": "python",
   "nbconvert_exporter": "python",
   "pygments_lexer": "ipython3",
   "version": "3.9.12"
  }
 },
 "nbformat": 4,
 "nbformat_minor": 5
}
