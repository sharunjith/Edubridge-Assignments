{
 "cells": [
  {
   "cell_type": "markdown",
   "id": "4e13fdfe",
   "metadata": {},
   "source": [
    "# Print \"Hello Python\" for 10 times"
   ]
  },
  {
   "cell_type": "code",
   "execution_count": 1,
   "id": "2f51018e",
   "metadata": {},
   "outputs": [
    {
     "name": "stdout",
     "output_type": "stream",
     "text": [
      "Hello Python\n",
      "Hello Python\n",
      "Hello Python\n",
      "Hello Python\n",
      "Hello Python\n",
      "Hello Python\n",
      "Hello Python\n",
      "Hello Python\n",
      "Hello Python\n",
      "Hello Python\n"
     ]
    }
   ],
   "source": [
    "i = 1\n",
    "while i<=10:\n",
    "    print(\"Hello Python\")\n",
    "    i = i + 1"
   ]
  },
  {
   "cell_type": "markdown",
   "id": "283f9981",
   "metadata": {},
   "source": [
    "# Print numbers 1 to 10"
   ]
  },
  {
   "cell_type": "code",
   "execution_count": 4,
   "id": "0fe38be3",
   "metadata": {
    "scrolled": true
   },
   "outputs": [
    {
     "name": "stdout",
     "output_type": "stream",
     "text": [
      "1\n",
      "2\n",
      "3\n",
      "4\n",
      "5\n",
      "6\n",
      "7\n",
      "8\n",
      "9\n",
      "10\n"
     ]
    }
   ],
   "source": [
    "i = 1\n",
    "while i<=10:\n",
    "    print(i)\n",
    "    i = i + 1"
   ]
  },
  {
   "cell_type": "markdown",
   "id": "ebb54856",
   "metadata": {},
   "source": [
    "# Print sum of first 10 numbers"
   ]
  },
  {
   "cell_type": "code",
   "execution_count": 5,
   "id": "19215cae",
   "metadata": {},
   "outputs": [
    {
     "name": "stdout",
     "output_type": "stream",
     "text": [
      "1\n",
      "3\n",
      "6\n",
      "10\n",
      "15\n",
      "21\n",
      "28\n",
      "36\n",
      "45\n",
      "55\n"
     ]
    }
   ],
   "source": [
    "i = 1\n",
    "sum = 0\n",
    "while i<=10:\n",
    "    sum = sum + i\n",
    "    print(sum)\n",
    "    i = i + 1"
   ]
  },
  {
   "cell_type": "markdown",
   "id": "bcff1522",
   "metadata": {},
   "source": [
    "# Sum of n numbers"
   ]
  },
  {
   "cell_type": "code",
   "execution_count": 6,
   "id": "91e0ef40",
   "metadata": {},
   "outputs": [
    {
     "name": "stdout",
     "output_type": "stream",
     "text": [
      "enter how manys numbers sum u want:56\n",
      "1596\n"
     ]
    }
   ],
   "source": [
    "n = int(input('enter how manys numbers sum u want:'))\n",
    "i = 1\n",
    "sum = 0\n",
    "while i<=n:\n",
    "    sum = sum + i\n",
    "    i = i + 1\n",
    "print(sum)"
   ]
  },
  {
   "cell_type": "markdown",
   "id": "31faed8a",
   "metadata": {},
   "source": [
    "# Print n numbers"
   ]
  },
  {
   "cell_type": "code",
   "execution_count": 7,
   "id": "b3e6b251",
   "metadata": {},
   "outputs": [
    {
     "name": "stdout",
     "output_type": "stream",
     "text": [
      "enter how many numbers u want:21\n",
      "1\n",
      "2\n",
      "3\n",
      "4\n",
      "5\n",
      "6\n",
      "7\n",
      "8\n",
      "9\n",
      "10\n",
      "11\n",
      "12\n",
      "13\n",
      "14\n",
      "15\n",
      "16\n",
      "17\n",
      "18\n",
      "19\n",
      "20\n",
      "21\n"
     ]
    }
   ],
   "source": [
    "n = int(input('enter how many numbers u want:'))\n",
    "i=1\n",
    "while i<=n:\n",
    "    print(i)\n",
    "    i = i+1"
   ]
  },
  {
   "cell_type": "markdown",
   "id": "46701f9c",
   "metadata": {},
   "source": [
    "# Table of number"
   ]
  },
  {
   "cell_type": "code",
   "execution_count": 8,
   "id": "21e3c247",
   "metadata": {},
   "outputs": [
    {
     "name": "stdout",
     "output_type": "stream",
     "text": [
      "enter any number:11\n",
      "11 X 1 = 11\n",
      "11 X 2 = 22\n",
      "11 X 3 = 33\n",
      "11 X 4 = 44\n",
      "11 X 5 = 55\n",
      "11 X 6 = 66\n",
      "11 X 7 = 77\n",
      "11 X 8 = 88\n",
      "11 X 9 = 99\n",
      "11 X 10 = 110\n"
     ]
    }
   ],
   "source": [
    "n = int(input('enter any number:'))\n",
    "i = 1\n",
    "while i<=10:\n",
    "    print(n,'X',i,'=',n*i)\n",
    "    i+=1"
   ]
  },
  {
   "cell_type": "markdown",
   "id": "37ca07c5",
   "metadata": {},
   "source": [
    "# Factorial"
   ]
  },
  {
   "cell_type": "code",
   "execution_count": 10,
   "id": "0f213351",
   "metadata": {},
   "outputs": [
    {
     "name": "stdout",
     "output_type": "stream",
     "text": [
      "enter any number:10\n",
      "3628800\n"
     ]
    }
   ],
   "source": [
    "n = int(input('enter any number:'))\n",
    "i = 1\n",
    "fac = 1\n",
    "while i<=n:\n",
    "    fac = fac*i\n",
    "    i+=1\n",
    "print(fac)"
   ]
  },
  {
   "cell_type": "markdown",
   "id": "a284d4cb",
   "metadata": {},
   "source": [
    "# Even Numbers 1 to 100"
   ]
  },
  {
   "cell_type": "code",
   "execution_count": 11,
   "id": "941cd933",
   "metadata": {},
   "outputs": [
    {
     "name": "stdout",
     "output_type": "stream",
     "text": [
      "2\n",
      "4\n",
      "6\n",
      "8\n",
      "10\n",
      "12\n",
      "14\n",
      "16\n",
      "18\n",
      "20\n",
      "22\n",
      "24\n",
      "26\n",
      "28\n",
      "30\n",
      "32\n",
      "34\n",
      "36\n",
      "38\n",
      "40\n",
      "42\n",
      "44\n",
      "46\n",
      "48\n",
      "50\n",
      "52\n",
      "54\n",
      "56\n",
      "58\n",
      "60\n",
      "62\n",
      "64\n",
      "66\n",
      "68\n",
      "70\n",
      "72\n",
      "74\n",
      "76\n",
      "78\n",
      "80\n",
      "82\n",
      "84\n",
      "86\n",
      "88\n",
      "90\n",
      "92\n",
      "94\n",
      "96\n",
      "98\n",
      "100\n"
     ]
    }
   ],
   "source": [
    "i = 1\n",
    "while i<=100:\n",
    "    if i%2==0:\n",
    "        print(i)\n",
    "    i = i+1"
   ]
  },
  {
   "cell_type": "markdown",
   "id": "d04517b0",
   "metadata": {},
   "source": [
    "# Odd numbers 1 to 100"
   ]
  },
  {
   "cell_type": "code",
   "execution_count": 12,
   "id": "fdc4701c",
   "metadata": {},
   "outputs": [
    {
     "name": "stdout",
     "output_type": "stream",
     "text": [
      "1\n",
      "3\n",
      "5\n",
      "7\n",
      "9\n",
      "11\n",
      "13\n",
      "15\n",
      "17\n",
      "19\n",
      "21\n",
      "23\n",
      "25\n",
      "27\n",
      "29\n",
      "31\n",
      "33\n",
      "35\n",
      "37\n",
      "39\n",
      "41\n",
      "43\n",
      "45\n",
      "47\n",
      "49\n",
      "51\n",
      "53\n",
      "55\n",
      "57\n",
      "59\n",
      "61\n",
      "63\n",
      "65\n",
      "67\n",
      "69\n",
      "71\n",
      "73\n",
      "75\n",
      "77\n",
      "79\n",
      "81\n",
      "83\n",
      "85\n",
      "87\n",
      "89\n",
      "91\n",
      "93\n",
      "95\n",
      "97\n",
      "99\n"
     ]
    }
   ],
   "source": [
    "i = 1\n",
    "while i<=100:\n",
    "    if i%2!=0:\n",
    "        print(i)\n",
    "    i = i+1\n",
    "    "
   ]
  },
  {
   "cell_type": "markdown",
   "id": "e13cd4e4",
   "metadata": {},
   "source": [
    "# Print 0 to 10 numbers using for loop"
   ]
  },
  {
   "cell_type": "code",
   "execution_count": 13,
   "id": "efe50bd8",
   "metadata": {},
   "outputs": [
    {
     "name": "stdout",
     "output_type": "stream",
     "text": [
      "0\n",
      "1\n",
      "2\n",
      "3\n",
      "4\n",
      "5\n",
      "6\n",
      "7\n",
      "8\n",
      "9\n",
      "10\n"
     ]
    }
   ],
   "source": [
    "for i in range(11):\n",
    "    print(i)"
   ]
  },
  {
   "cell_type": "code",
   "execution_count": 14,
   "id": "6675cf20",
   "metadata": {},
   "outputs": [
    {
     "name": "stdout",
     "output_type": "stream",
     "text": [
      "hello\n",
      "hello\n",
      "hello\n",
      "hello\n",
      "hello\n",
      "hello\n",
      "hello\n",
      "hello\n",
      "hello\n",
      "hello\n"
     ]
    }
   ],
   "source": [
    "for j in range(10):\n",
    "    print(\"hello\")"
   ]
  },
  {
   "cell_type": "markdown",
   "id": "a0ae1cf8",
   "metadata": {},
   "source": [
    "# Sum of 1 to 10 numbers using for loop# "
   ]
  },
  {
   "cell_type": "code",
   "execution_count": 15,
   "id": "1206e4a2",
   "metadata": {},
   "outputs": [
    {
     "name": "stdout",
     "output_type": "stream",
     "text": [
      "55\n"
     ]
    }
   ],
   "source": [
    "sum = 0\n",
    "for i in range(11):\n",
    "    sum = sum + i\n",
    "print(sum)"
   ]
  },
  {
   "cell_type": "code",
   "execution_count": 16,
   "id": "a5648ce3",
   "metadata": {},
   "outputs": [
    {
     "name": "stdout",
     "output_type": "stream",
     "text": [
      "0\n",
      "1\n",
      "3\n",
      "6\n",
      "10\n",
      "15\n",
      "21\n",
      "28\n",
      "36\n",
      "45\n",
      "55\n"
     ]
    }
   ],
   "source": [
    "sum = 0\n",
    "for i in range(11):\n",
    "    sum = sum + i\n",
    "    print(sum)"
   ]
  },
  {
   "cell_type": "code",
   "execution_count": 17,
   "id": "3192c581",
   "metadata": {},
   "outputs": [
    {
     "name": "stdout",
     "output_type": "stream",
     "text": [
      "0\n",
      "1\n",
      "2\n",
      "3\n",
      "4\n",
      "5\n",
      "6\n",
      "7\n",
      "8\n",
      "9\n",
      "Condition executed...came out of loop\n"
     ]
    }
   ],
   "source": [
    "for i in range(10):\n",
    "    print(i)\n",
    "else:\n",
    "    print(\"Condition executed...came out of loop\")"
   ]
  }
 ],
 "metadata": {
  "kernelspec": {
   "display_name": "Python 3 (ipykernel)",
   "language": "python",
   "name": "python3"
  },
  "language_info": {
   "codemirror_mode": {
    "name": "ipython",
    "version": 3
   },
   "file_extension": ".py",
   "mimetype": "text/x-python",
   "name": "python",
   "nbconvert_exporter": "python",
   "pygments_lexer": "ipython3",
   "version": "3.9.12"
  }
 },
 "nbformat": 4,
 "nbformat_minor": 5
}
