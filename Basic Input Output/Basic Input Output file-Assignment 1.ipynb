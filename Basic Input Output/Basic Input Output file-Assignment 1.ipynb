{
 "cells": [
  {
   "cell_type": "markdown",
   "id": "f45179d0",
   "metadata": {},
   "source": [
    "# Self Introduction"
   ]
  },
  {
   "cell_type": "code",
   "execution_count": 1,
   "id": "caf0ecaa",
   "metadata": {},
   "outputs": [
    {
     "name": "stdout",
     "output_type": "stream",
     "text": [
      "Hi Sharun welcome to python\n"
     ]
    }
   ],
   "source": [
    "print(\"Hi Sharun welcome to python\")"
   ]
  },
  {
   "cell_type": "markdown",
   "id": "257a690f",
   "metadata": {},
   "source": [
    "# Addition"
   ]
  },
  {
   "cell_type": "code",
   "execution_count": 2,
   "id": "ebb7b8f4",
   "metadata": {},
   "outputs": [
    {
     "name": "stdout",
     "output_type": "stream",
     "text": [
      "enter n1:7\n",
      "enter n2:5\n",
      "sum= 12\n"
     ]
    }
   ],
   "source": [
    "n1 = int(input('enter n1:'))\n",
    "n2 = int(input('enter n2:'))\n",
    "sum = n1+n2\n",
    "print(\"sum=\",sum)\n"
   ]
  },
  {
   "cell_type": "markdown",
   "id": "a876271e",
   "metadata": {},
   "source": [
    "# Substraction"
   ]
  },
  {
   "cell_type": "code",
   "execution_count": 5,
   "id": "562bf70c",
   "metadata": {},
   "outputs": [
    {
     "name": "stdout",
     "output_type": "stream",
     "text": [
      "enter n1:6\n",
      "enter n2:4\n",
      "sub= 2\n"
     ]
    }
   ],
   "source": [
    "n1=int(input('enter n1:'))\n",
    "n2=int(input('enter n2:'))\n",
    "sub=n1-n2\n",
    "print('sub=',sub)"
   ]
  },
  {
   "cell_type": "markdown",
   "id": "9d15a975",
   "metadata": {},
   "source": [
    "# Multiplication"
   ]
  },
  {
   "cell_type": "code",
   "execution_count": 7,
   "id": "a01c889c",
   "metadata": {},
   "outputs": [
    {
     "name": "stdout",
     "output_type": "stream",
     "text": [
      "enter n1:4\n",
      "enter n2:5\n",
      "mul= 20\n"
     ]
    }
   ],
   "source": [
    "n1=int(input('enter n1:'))\n",
    "n2=int(input('enter n2:'))\n",
    "mul=n1*n2\n",
    "print('mul=',mul)"
   ]
  },
  {
   "cell_type": "markdown",
   "id": "68c70a78",
   "metadata": {},
   "source": [
    "# Division"
   ]
  },
  {
   "cell_type": "code",
   "execution_count": 9,
   "id": "888c2d17",
   "metadata": {},
   "outputs": [
    {
     "name": "stdout",
     "output_type": "stream",
     "text": [
      "enter n1:6\n",
      "enter n2:4\n",
      "div= 1.5\n"
     ]
    }
   ],
   "source": [
    "n1=int(input('enter n1:'))\n",
    "n2=int(input('enter n2:'))\n",
    "div=n1/n2\n",
    "print('div=',div)"
   ]
  },
  {
   "cell_type": "markdown",
   "id": "7e8f433d",
   "metadata": {},
   "source": [
    "# Modulus"
   ]
  },
  {
   "cell_type": "code",
   "execution_count": 10,
   "id": "e464158e",
   "metadata": {},
   "outputs": [
    {
     "name": "stdout",
     "output_type": "stream",
     "text": [
      "enter n1:4\n",
      "enter n1:3\n",
      "mod= 1\n"
     ]
    }
   ],
   "source": [
    "n1=int(input('enter n1:'))\n",
    "n2=int(input('enter n1:'))\n",
    "mod=n1%n2\n",
    "print('mod=',mod)"
   ]
  },
  {
   "cell_type": "markdown",
   "id": "13a4e137",
   "metadata": {},
   "source": [
    "# Exponent"
   ]
  },
  {
   "cell_type": "code",
   "execution_count": 13,
   "id": "b28f546d",
   "metadata": {},
   "outputs": [
    {
     "name": "stdout",
     "output_type": "stream",
     "text": [
      "enter n1:7\n",
      "enter n2:2\n",
      "exp= 49\n"
     ]
    }
   ],
   "source": [
    "n1=int(input('enter n1:'))\n",
    "n2=int(input('enter n2:'))\n",
    "exp=n1**n2\n",
    "print('exp=',exp)"
   ]
  }
 ],
 "metadata": {
  "kernelspec": {
   "display_name": "Python 3 (ipykernel)",
   "language": "python",
   "name": "python3"
  },
  "language_info": {
   "codemirror_mode": {
    "name": "ipython",
    "version": 3
   },
   "file_extension": ".py",
   "mimetype": "text/x-python",
   "name": "python",
   "nbconvert_exporter": "python",
   "pygments_lexer": "ipython3",
   "version": "3.9.12"
  }
 },
 "nbformat": 4,
 "nbformat_minor": 5
}
