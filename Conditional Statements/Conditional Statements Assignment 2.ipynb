{
 "cells": [
  {
   "cell_type": "markdown",
   "id": "baa1723d",
   "metadata": {},
   "source": [
    "# Greatest number b/w 2 numbers"
   ]
  },
  {
   "cell_type": "code",
   "execution_count": 1,
   "id": "f25993d3",
   "metadata": {},
   "outputs": [
    {
     "name": "stdout",
     "output_type": "stream",
     "text": [
      "enter first num:23\n",
      "enter second num:24\n",
      "Greatest number = 24\n"
     ]
    }
   ],
   "source": [
    "n1 = int(input('enter first num:'))\n",
    "n2 = int(input('enter second num:'))\n",
    "if n1>n2:\n",
    "    print(\"Greatest number =\", n1)\n",
    "elif n1<n2:\n",
    "    print(\"Greatest number =\", n2)\n",
    "else:\n",
    "    print(\"Both are equal\")"
   ]
  },
  {
   "cell_type": "markdown",
   "id": "0ad06322",
   "metadata": {},
   "source": [
    "# Smallest number b/w 2 numbers"
   ]
  },
  {
   "cell_type": "code",
   "execution_count": 2,
   "id": "57e0811c",
   "metadata": {},
   "outputs": [
    {
     "name": "stdout",
     "output_type": "stream",
     "text": [
      "enter first num:33\n",
      "enter second num:45\n",
      "Smallest number = 33\n"
     ]
    }
   ],
   "source": [
    "n1 = int(input('enter first num:'))\n",
    "n2 = int(input('enter second num:'))\n",
    "if n1<n2:\n",
    "    print(\"Smallest number =\", n1)\n",
    "elif n2<n1:\n",
    "    print(\"Smallest number =\", n2)\n",
    "else:\n",
    "    print(\"Both are equal\")"
   ]
  },
  {
   "cell_type": "markdown",
   "id": "96984fab",
   "metadata": {},
   "source": [
    "# Greatest number among 3 numbers"
   ]
  },
  {
   "cell_type": "code",
   "execution_count": 3,
   "id": "5f97352a",
   "metadata": {},
   "outputs": [
    {
     "name": "stdout",
     "output_type": "stream",
     "text": [
      "enter first num:33\n",
      "enter second num:43\n",
      "enter third num:23\n",
      "Greatest number = 43\n"
     ]
    }
   ],
   "source": [
    "n1 = int(input('enter first num:'))\n",
    "n2 = int(input('enter second num:'))\n",
    "n3 = int(input('enter third num:'))\n",
    "if (n1>n2 and n1>n3):\n",
    "    print(\"Greatest number =\", n1)\n",
    "elif (n2>n1 and n2>n3):\n",
    "    print(\"Greatest number =\", n2)\n",
    "else:\n",
    "    print(\"Greatest number =\", n3)"
   ]
  },
  {
   "cell_type": "markdown",
   "id": "c36811c4",
   "metadata": {},
   "source": [
    "# Smallest number among 3 numbers"
   ]
  },
  {
   "cell_type": "code",
   "execution_count": 4,
   "id": "83a71d5f",
   "metadata": {},
   "outputs": [
    {
     "name": "stdout",
     "output_type": "stream",
     "text": [
      "enter first num:23\n",
      "enter second num:45\n",
      "enter third num:21\n",
      "Smallest number = 21\n"
     ]
    }
   ],
   "source": [
    "n1 = int(input('enter first num:'))\n",
    "n2 = int(input('enter second num:'))\n",
    "n3 = int(input('enter third num:'))\n",
    "if (n1<n2 and n1<n3):\n",
    "    print(\"Smallest number =\", n1)\n",
    "elif (n2<n1 and n2<n3):\n",
    "    print(\"Smallest number =\", n2)\n",
    "else:\n",
    "    print(\"Smallest number =\", n3)"
   ]
  },
  {
   "cell_type": "markdown",
   "id": "754eaedd",
   "metadata": {},
   "source": [
    "# Roots of quadratic equation"
   ]
  },
  {
   "cell_type": "code",
   "execution_count": 5,
   "id": "bb0e094a",
   "metadata": {},
   "outputs": [
    {
     "name": "stdout",
     "output_type": "stream",
     "text": [
      "Enter value of a = 2\n",
      "Enter value of b = 4\n",
      "Enter value of c = 3\n",
      "Roots of quadratic equation is\n",
      "  (-1+0.7071067811865476j) \n",
      " (-1-0.7071067811865476j)\n"
     ]
    }
   ],
   "source": [
    "a=int(input(\"Enter value of a = \"))\n",
    "b=int(input('Enter value of b = '))\n",
    "c=int(input('Enter value of c = '))\n",
    "r1 = (-b+((b**2)-4*a*c)**0.5)/(2*a)\n",
    "r2 = (-b-((b**2)-4*a*c)**0.5)/(2*a)\n",
    "print(\"Roots of quadratic equation is\\n \",r1,'\\n',r2)"
   ]
  },
  {
   "cell_type": "markdown",
   "id": "f0abd9c2",
   "metadata": {},
   "source": [
    "# Respective day"
   ]
  },
  {
   "cell_type": "code",
   "execution_count": 6,
   "id": "3563d548",
   "metadata": {},
   "outputs": [
    {
     "name": "stdout",
     "output_type": "stream",
     "text": [
      "Enter number from 1-7 = 4\n",
      "Thursday\n"
     ]
    }
   ],
   "source": [
    "n=int(input('Enter number from 1-7 = '))\n",
    "if n == 1:\n",
    "    print('Monday')\n",
    "elif n==2:\n",
    "    print('Tuesday')\n",
    "elif n==3:\n",
    "    print('Wednesday')\n",
    "elif n==4:\n",
    "    print('Thursday')\n",
    "elif n==5:\n",
    "    print('Friday')\n",
    "elif n==6:\n",
    "    print('Saturday')\n",
    "elif n==7:\n",
    "    print('Sunday')\n",
    "else:\n",
    "    print('Wrong input')"
   ]
  }
 ],
 "metadata": {
  "kernelspec": {
   "display_name": "Python 3 (ipykernel)",
   "language": "python",
   "name": "python3"
  },
  "language_info": {
   "codemirror_mode": {
    "name": "ipython",
    "version": 3
   },
   "file_extension": ".py",
   "mimetype": "text/x-python",
   "name": "python",
   "nbconvert_exporter": "python",
   "pygments_lexer": "ipython3",
   "version": "3.9.12"
  }
 },
 "nbformat": 4,
 "nbformat_minor": 5
}
