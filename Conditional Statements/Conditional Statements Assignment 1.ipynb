{
 "cells": [
  {
   "cell_type": "markdown",
   "id": "d9d38571",
   "metadata": {},
   "source": [
    "# Even Or Odd"
   ]
  },
  {
   "cell_type": "code",
   "execution_count": 3,
   "id": "05b2fbe3",
   "metadata": {},
   "outputs": [
    {
     "name": "stdout",
     "output_type": "stream",
     "text": [
      "enter num:4\n",
      "number is even\n"
     ]
    }
   ],
   "source": [
    "num = int(input('enter num:'))\n",
    "if num%2==0:\n",
    "    print(\"number is even\")\n",
    "else:\n",
    "    print(\"number is odd\")"
   ]
  },
  {
   "cell_type": "markdown",
   "id": "0712a694",
   "metadata": {},
   "source": [
    "# Vowel Or Consonant"
   ]
  },
  {
   "cell_type": "code",
   "execution_count": 4,
   "id": "26cbecd9",
   "metadata": {},
   "outputs": [
    {
     "name": "stdout",
     "output_type": "stream",
     "text": [
      "enter character:r\n",
      "Consonant\n"
     ]
    }
   ],
   "source": [
    "char = str(input('enter character:'))\n",
    "if (char=='a') or (char=='e') or (char=='i') or (char=='o') or (char=='u'):\n",
    "    print(\"Vowel\")\n",
    "else:\n",
    "    print(\"Consonant\")"
   ]
  },
  {
   "cell_type": "markdown",
   "id": "75104c05",
   "metadata": {},
   "source": [
    "# Eligibilty for Vote"
   ]
  },
  {
   "cell_type": "code",
   "execution_count": 5,
   "id": "e39d6a9c",
   "metadata": {},
   "outputs": [
    {
     "name": "stdout",
     "output_type": "stream",
     "text": [
      "enter age of person:23\n",
      "person is eligible to vote\n"
     ]
    }
   ],
   "source": [
    "age = int(input('enter age of person:'))\n",
    "if age<18:\n",
    "    print(\"person is not eligible for vote\")\n",
    "else:\n",
    "    print(\"person is eligible to vote\")"
   ]
  },
  {
   "cell_type": "markdown",
   "id": "a577380f",
   "metadata": {},
   "source": [
    "# Positive, Negative or Zero "
   ]
  },
  {
   "cell_type": "code",
   "execution_count": 6,
   "id": "36644e39",
   "metadata": {},
   "outputs": [
    {
     "name": "stdout",
     "output_type": "stream",
     "text": [
      "enter num:45\n",
      "Positive number\n"
     ]
    }
   ],
   "source": [
    "num = int(input('enter num:'))\n",
    "if num==0:\n",
    "    print(\"Zero\")\n",
    "elif num>0:\n",
    "    print(\"Positive number\")\n",
    "else:\n",
    "    print(\"Negative number\")"
   ]
  },
  {
   "cell_type": "markdown",
   "id": "8a915f1a",
   "metadata": {},
   "source": [
    "# Leap year or not"
   ]
  },
  {
   "cell_type": "code",
   "execution_count": 7,
   "id": "c3422168",
   "metadata": {
    "scrolled": true
   },
   "outputs": [
    {
     "name": "stdout",
     "output_type": "stream",
     "text": [
      "enter year:2023\n",
      "Not Leap Year\n"
     ]
    }
   ],
   "source": [
    "year = int(input('enter year:'))\n",
    "if year%4==0:\n",
    "    print(\"Leap Year\")\n",
    "else:\n",
    "    print(\"Not Leap Year\")"
   ]
  },
  {
   "cell_type": "markdown",
   "id": "27970c06",
   "metadata": {},
   "source": [
    "# Types of triangle"
   ]
  },
  {
   "cell_type": "code",
   "execution_count": 8,
   "id": "50e29eb9",
   "metadata": {},
   "outputs": [
    {
     "name": "stdout",
     "output_type": "stream",
     "text": [
      "enter first side of triangle2\n",
      "enter second side of triangle2\n",
      "enter third side of triangle2\n",
      "Equilateral triangle\n"
     ]
    }
   ],
   "source": [
    "a = int(input('enter first side of triangle'))\n",
    "b = int(input('enter second side of triangle'))\n",
    "c = int(input('enter third side of triangle'))\n",
    "if a==b==c:\n",
    "    print(\"Equilateral triangle\")\n",
    "elif (a!=b and a!=c and b!=c):\n",
    "    print(\"Scalene triangle\")\n",
    "else:\n",
    "    print(\"Isosceles triangle\")"
   ]
  },
  {
   "cell_type": "markdown",
   "id": "cbb08a14",
   "metadata": {},
   "source": [
    "# Profit or Loss"
   ]
  },
  {
   "cell_type": "code",
   "execution_count": 9,
   "id": "e2d8fbd2",
   "metadata": {},
   "outputs": [
    {
     "name": "stdout",
     "output_type": "stream",
     "text": [
      "enter cost price of the product:45\n",
      "enter selling price of the product:55\n",
      "Profit\n"
     ]
    }
   ],
   "source": [
    "CP = int(input('enter cost price of the product:'))\n",
    "SP = int(input('enter selling price of the product:'))\n",
    "if SP > CP:\n",
    "    print(\"Profit\")\n",
    "elif SP < CP:\n",
    "    print(\"Loss\")\n",
    "else:\n",
    "    print(\"No loss no profit\")"
   ]
  }
 ],
 "metadata": {
  "kernelspec": {
   "display_name": "Python 3 (ipykernel)",
   "language": "python",
   "name": "python3"
  },
  "language_info": {
   "codemirror_mode": {
    "name": "ipython",
    "version": 3
   },
   "file_extension": ".py",
   "mimetype": "text/x-python",
   "name": "python",
   "nbconvert_exporter": "python",
   "pygments_lexer": "ipython3",
   "version": "3.9.12"
  }
 },
 "nbformat": 4,
 "nbformat_minor": 5
}
